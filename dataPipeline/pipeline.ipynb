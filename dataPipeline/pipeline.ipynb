{
 "cells": [
  {
   "cell_type": "code",
   "execution_count": 1,
   "id": "f5f8ea4b",
   "metadata": {},
   "outputs": [
    {
     "data": {
      "text/plain": [
       "['/home/jessica/Modules-LEA/dataPipeline',\n",
       " '/home/jessica/anaconda3/envs/LEA/lib/python38.zip',\n",
       " '/home/jessica/anaconda3/envs/LEA/lib/python3.8',\n",
       " '/home/jessica/anaconda3/envs/LEA/lib/python3.8/lib-dynload',\n",
       " '',\n",
       " '/home/jessica/anaconda3/envs/LEA/lib/python3.8/site-packages',\n",
       " '/home/jessica/anaconda3/envs/LEA/lib/python3.8/site-packages/IPython/extensions',\n",
       " '/home/jessica/.ipython']"
      ]
     },
     "execution_count": 1,
     "metadata": {},
     "output_type": "execute_result"
    }
   ],
   "source": [
    "import sys\n",
    "sys.path"
   ]
  },
  {
   "cell_type": "code",
   "execution_count": 16,
   "id": "9ffdf755",
   "metadata": {},
   "outputs": [
    {
     "name": "stdout",
     "output_type": "stream",
     "text": [
      "['./video/Sujet1_1p.mp4', './video/Sujet1_2p.mp4', './video/Sujet1_3p.mp4', './video/Sujet3_2p.mp4', './video/Sujet4_1p.mp4', './video/Sujet4_3p.mp4', './video/Sujet5_1p.mp4', './video/Sujet6_1p.mp4', './video/Sujet6_3p.mp4', './video/Sujet7_1p.mp4', './video/Sujet7_3p.mp4', './video/Sujet8_2p.mp4', './video/Sujet9_1p.mp4', './video/Sujet10_1p.mp4', './video/Sujet10_2p.mp4', './video/Sujet11_1p.mp4', './video/Sujet12_1p.mp4', './video/Sujet13_1p.mp4', './video/Sujet14_1p.mp4', './video/Sujet14_2p.mp4', './video/Sujet14_3p.mp4', './video/Sujet15_1p.mp4', './video/Sujet15_3p.mp4', './video/Sujet16_2p.mp4', './video/Sujet17_2p.mp4', './video/Sujet17_3p.mp4', './video/Sujet18_1p.mp4', './video/Sujet18_2p.mp4', './video/Sujet18_3p.mp4', './video/Sujet19_3p.mp4', './video/Sujet21_1p.mp4', './video/Sujet21_2p.mp4', './video/Sujet22_1p.mp4', './video/Sujet23_3p.mp4', './video/Sujet24_2p.mp4']\n"
     ]
    }
   ],
   "source": [
    "import os\n",
    "import json\n",
    "import pickle\n",
    "import cv2\n",
    "import shutil\n",
    "import pandas as pd\n",
    "import numpy as np\n",
    "\n",
    "xsens_path = 'Xsens_profil.p'\n",
    "videos = './valid_videos'\n",
    "\n",
    "with open(xsens_path,'rb') as file:\n",
    "    xsens_data = pickle.load(file)\n",
    "    \n",
    "valid_video = []\n",
    "if (not os.path.exists(videos)):\n",
    "    os.makedirs(videos)\n",
    "#charger chaque vidéo\n",
    "i =1\n",
    "while i<=24 :\n",
    "    j = 1\n",
    "    while j<=3:\n",
    "        video_path ='./video/Sujet'+str(i)+'_'+str(j)+'p.mp4'\n",
    "        key_xsens = 'Sujet'+str(i)+'_T'+str(j)\n",
    "        video = cv2.VideoCapture(video_path)\n",
    "        frames_number = int(video.get(cv2.CAP_PROP_FRAME_COUNT))\n",
    "        value = xsens_data[key_xsens]\n",
    "        length = len(value)\n",
    "        if(length == frames_number):\n",
    "            valid_video.append(video_path)\n",
    "            #shutil.copy(video_path, videos)\n",
    "        j = j+1\n",
    "    i = i+1\n",
    "print('end')\n",
    "    "
   ]
  },
  {
   "cell_type": "code",
   "execution_count": null,
   "id": "0d17fd07",
   "metadata": {},
   "outputs": [],
   "source": []
  },
  {
   "cell_type": "code",
   "execution_count": null,
   "id": "c60b391e",
   "metadata": {},
   "outputs": [],
   "source": []
  }
 ],
 "metadata": {
  "kernelspec": {
   "display_name": "Python 3",
   "language": "python",
   "name": "python3"
  },
  "language_info": {
   "codemirror_mode": {
    "name": "ipython",
    "version": 3
   },
   "file_extension": ".py",
   "mimetype": "text/x-python",
   "name": "python",
   "nbconvert_exporter": "python",
   "pygments_lexer": "ipython3",
   "version": "3.8.12"
  }
 },
 "nbformat": 4,
 "nbformat_minor": 5
}
