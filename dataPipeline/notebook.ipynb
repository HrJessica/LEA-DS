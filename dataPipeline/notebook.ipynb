{
 "cells": [
  {
   "cell_type": "code",
   "execution_count": 92,
   "id": "f5df2c0c",
   "metadata": {},
   "outputs": [],
   "source": [
    "import os\n",
    "import json\n",
    "import pickle\n",
    "import cv2\n",
    "import shutil\n",
    "import pandas as pd\n",
    "import numpy as np\n",
    "import matplotlib.pyplot as plt\n",
    "from scipy.signal import savgol_filter\n",
    "from sklearn.neural_network import MLPRegressor\n",
    "from sklearn.model_selection import train_test_split\n",
    "from sklearn.metrics import r2_score\n",
    "from sklearn.preprocessing import PolynomialFeatures\n",
    "from sklearn.preprocessing import StandardScaler\n",
    "%matplotlib inline"
   ]
  },
  {
   "cell_type": "code",
   "execution_count": 93,
   "id": "e04fd3ff",
   "metadata": {},
   "outputs": [],
   "source": [
    "data_path = './x'\n",
    "videos_path = '/media/hery/04e98b7c-afbb-48aa-a435-39ca697f6c20/Videos-labo/45_Gauche'\n",
    "lea_data = './lea'\n",
    "videos = './valid_videos_45gauche'"
   ]
  },
  {
   "cell_type": "code",
   "execution_count": 94,
   "id": "b1cfd5db",
   "metadata": {},
   "outputs": [],
   "source": [
    "# Open file\n",
    "with open(data_path, 'rb') as f:\n",
    "    xsens_data = pickle.load(f)"
   ]
  },
  {
   "cell_type": "code",
   "execution_count": 89,
   "id": "1b13e5a1",
   "metadata": {},
   "outputs": [],
   "source": [
    "#Compare number of frames and get valid videos\n",
    "valid_videos = []\n",
    "if (not os.path.exists(videos)):\n",
    "    os.makedirs(videos)\n",
    "for key, value in xsens_data.items():\n",
    "    prefix = key.split('_')[0]\n",
    "    num = key.split('_')[-1][-1]\n",
    "    video_path = os.path.join(videos_path, prefix + f'_{num}t.mp4')\n",
    "    video = cv2.VideoCapture(video_path)\n",
    "    frames_number = int(video.get(cv2.CAP_PROP_FRAME_COUNT))\n",
    "    if (int(len(value)) == frames_number):\n",
    "        shutil.copy(video_path, videos)\n",
    "        valid_videos.append(key)"
   ]
  },
  {
   "cell_type": "code",
   "execution_count": 102,
   "id": "3c4f32b7",
   "metadata": {},
   "outputs": [],
   "source": [
    "# Create input and output data set\n",
    "input_rt, input_it, input_ft = [], [], []\n",
    "output_ft, output_rt, output_it = [], [], []\n",
    "for file in sorted(os.listdir(lea_data)):\n",
    "    if file.endswith('.json'):\n",
    "        valid_frames = []\n",
    "        prefix = file.split('_')[0]\n",
    "        num = int(file.split('_')[1][0])\n",
    "        json_path = os.path.join(lea_data, file)\n",
    "        with open(json_path, 'r') as f:\n",
    "            data_lea = json.load(f)\n",
    "        data_xsens = xsens_data[prefix + '_' + f'T{num}']\n",
    "        # create input\n",
    "        for key, value in data_lea['frames'].items():\n",
    "            valid_frames.append(key)\n",
    "            input_ft.append(value['smoothed_angles']['Fed'])\n",
    "            input_rt.append(value['angles']['Rt'])\n",
    "            input_it.append(value['angles']['It'])\n",
    "        # create output\n",
    "        for idx, row in data_xsens.iterrows():\n",
    "            frame = f'frame_{idx}'\n",
    "            if (frame in valid_frames):\n",
    "                output_ft.append(row['Fed'])\n",
    "                output_rt.append(row['Rt'])\n",
    "                output_it.append(row['It'])"
   ]
  }
 ],
 "metadata": {
  "kernelspec": {
   "display_name": "Python 3",
   "language": "python",
   "name": "python3"
  },
  "language_info": {
   "codemirror_mode": {
    "name": "ipython",
    "version": 3
   },
   "file_extension": ".py",
   "mimetype": "text/x-python",
   "name": "python",
   "nbconvert_exporter": "python",
   "pygments_lexer": "ipython3",
   "version": "3.8.12"
  }
 },
 "nbformat": 4,
 "nbformat_minor": 5
}
